{
 "cells": [
  {
   "cell_type": "code",
   "execution_count": 1,
   "id": "ede39061",
   "metadata": {},
   "outputs": [
    {
     "name": "stdout",
     "output_type": "stream",
     "text": [
      "Rithuik Prakash\n"
     ]
    }
   ],
   "source": [
    "print(\"Rithuik Prakash\")"
   ]
  },
  {
   "cell_type": "code",
   "execution_count": 2,
   "id": "2f58838d",
   "metadata": {},
   "outputs": [
    {
     "name": "stdout",
     "output_type": "stream",
     "text": [
      "12\n"
     ]
    }
   ],
   "source": [
    "print(3+9)"
   ]
  },
  {
   "cell_type": "code",
   "execution_count": 3,
   "id": "2855b778",
   "metadata": {},
   "outputs": [
    {
     "ename": "SyntaxError",
     "evalue": "incomplete input (2359908140.py, line 1)",
     "output_type": "error",
     "traceback": [
      "\u001b[1;36m  Cell \u001b[1;32mIn[3], line 1\u001b[1;36m\u001b[0m\n\u001b[1;33m    my_str=\"Appu N.K\"\\\u001b[0m\n\u001b[1;37m                      ^\u001b[0m\n\u001b[1;31mSyntaxError\u001b[0m\u001b[1;31m:\u001b[0m incomplete input\n"
     ]
    }
   ],
   "source": [
    "my_str=\"Appu N.K\"\\"
   ]
  },
  {
   "cell_type": "code",
   "execution_count": 4,
   "id": "a04e86ca",
   "metadata": {},
   "outputs": [],
   "source": [
    "my_str=\"Appu N.K\""
   ]
  },
  {
   "cell_type": "code",
   "execution_count": 5,
   "id": "b953e6f6",
   "metadata": {},
   "outputs": [
    {
     "ename": "AttributeError",
     "evalue": "'str' object has no attribute 'isalphanum'",
     "output_type": "error",
     "traceback": [
      "\u001b[1;31m---------------------------------------------------------------------------\u001b[0m",
      "\u001b[1;31mAttributeError\u001b[0m                            Traceback (most recent call last)",
      "Cell \u001b[1;32mIn[5], line 1\u001b[0m\n\u001b[1;32m----> 1\u001b[0m my_str\u001b[38;5;241m.\u001b[39misalphanum()\n",
      "\u001b[1;31mAttributeError\u001b[0m: 'str' object has no attribute 'isalphanum'"
     ]
    }
   ],
   "source": [
    "my_str.isalphanum()"
   ]
  },
  {
   "cell_type": "code",
   "execution_count": null,
   "id": "8fd70c3b",
   "metadata": {},
   "outputs": [],
   "source": [
    "my"
   ]
  }
 ],
 "metadata": {
  "kernelspec": {
   "display_name": "Python 3 (ipykernel)",
   "language": "python",
   "name": "python3"
  },
  "language_info": {
   "codemirror_mode": {
    "name": "ipython",
    "version": 3
   },
   "file_extension": ".py",
   "mimetype": "text/x-python",
   "name": "python",
   "nbconvert_exporter": "python",
   "pygments_lexer": "ipython3",
   "version": "3.11.4"
  }
 },
 "nbformat": 4,
 "nbformat_minor": 5
}
