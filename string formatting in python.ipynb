{
 "cells": [
  {
   "cell_type": "code",
   "execution_count": 1,
   "id": "932080a2",
   "metadata": {},
   "outputs": [
    {
     "name": "stdout",
     "output_type": "stream",
     "text": [
      "Hello world\n"
     ]
    }
   ],
   "source": [
    "print(\"Hello world\")"
   ]
  },
  {
   "cell_type": "code",
   "execution_count": 2,
   "id": "7b742ded",
   "metadata": {},
   "outputs": [],
   "source": [
    "def greeting(name):\n",
    "    return \"hello {}.Welcome to the community\".format(name)"
   ]
  },
  {
   "cell_type": "code",
   "execution_count": 3,
   "id": "b417a527",
   "metadata": {},
   "outputs": [
    {
     "data": {
      "text/plain": [
       "'hello krish.Welcome to the community'"
      ]
     },
     "execution_count": 3,
     "metadata": {},
     "output_type": "execute_result"
    }
   ],
   "source": [
    "greeting('krish')"
   ]
  },
  {
   "cell_type": "code",
   "execution_count": 4,
   "id": "52f20916",
   "metadata": {},
   "outputs": [
    {
     "data": {
      "text/plain": [
       "'hello Appu.Welcome to the community'"
      ]
     },
     "execution_count": 4,
     "metadata": {},
     "output_type": "execute_result"
    }
   ],
   "source": [
    "greeting('Appu')"
   ]
  },
  {
   "cell_type": "code",
   "execution_count": 9,
   "id": "b6d15ea5",
   "metadata": {},
   "outputs": [],
   "source": [
    "def welcome_email(name,age):\n",
    "    return \"welcome {}.Your age is {}\".format(name,age)"
   ]
  },
  {
   "cell_type": "code",
   "execution_count": 12,
   "id": "f2efe8e1",
   "metadata": {},
   "outputs": [
    {
     "data": {
      "text/plain": [
       "'welcome Kuttan Nalomkandiyil.Your age is 62'"
      ]
     },
     "execution_count": 12,
     "metadata": {},
     "output_type": "execute_result"
    }
   ],
   "source": [
    "welcome_email('Kuttan Nalomkandiyil',62)"
   ]
  },
  {
   "cell_type": "code",
   "execution_count": null,
   "id": "0153c89a",
   "metadata": {},
   "outputs": [],
   "source": []
  }
 ],
 "metadata": {
  "kernelspec": {
   "display_name": "Python 3 (ipykernel)",
   "language": "python",
   "name": "python3"
  },
  "language_info": {
   "codemirror_mode": {
    "name": "ipython",
    "version": 3
   },
   "file_extension": ".py",
   "mimetype": "text/x-python",
   "name": "python",
   "nbconvert_exporter": "python",
   "pygments_lexer": "ipython3",
   "version": "3.11.4"
  }
 },
 "nbformat": 4,
 "nbformat_minor": 5
}
