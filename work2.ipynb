{
 "cells": [
  {
   "cell_type": "code",
   "execution_count": 1,
   "id": "5cdb2838",
   "metadata": {},
   "outputs": [],
   "source": [
    "set_var={1,2,3,4,5}"
   ]
  },
  {
   "cell_type": "code",
   "execution_count": 2,
   "id": "f7b79d33",
   "metadata": {},
   "outputs": [
    {
     "data": {
      "text/plain": [
       "{1, 2, 3, 4, 5}"
      ]
     },
     "execution_count": 2,
     "metadata": {},
     "output_type": "execute_result"
    }
   ],
   "source": [
    "set_var"
   ]
  },
  {
   "cell_type": "code",
   "execution_count": 4,
   "id": "33accfa2",
   "metadata": {},
   "outputs": [
    {
     "ename": "NameError",
     "evalue": "name 'ser_var' is not defined",
     "output_type": "error",
     "traceback": [
      "\u001b[1;31m---------------------------------------------------------------------------\u001b[0m",
      "\u001b[1;31mNameError\u001b[0m                                 Traceback (most recent call last)",
      "Cell \u001b[1;32mIn[4], line 2\u001b[0m\n\u001b[0;32m      1\u001b[0m set_var\u001b[38;5;241m=\u001b[39m{\u001b[38;5;124m\"\u001b[39m\u001b[38;5;124mAvenegrs\u001b[39m\u001b[38;5;124m\"\u001b[39m,\u001b[38;5;124m\"\u001b[39m\u001b[38;5;124mIronman\u001b[39m\u001b[38;5;124m\"\u001b[39m,\u001b[38;5;124m\"\u001b[39m\u001b[38;5;124mHitman\u001b[39m\u001b[38;5;124m\"\u001b[39m}\n\u001b[1;32m----> 2\u001b[0m \u001b[38;5;28mprint\u001b[39m(ser_var)\n\u001b[0;32m      3\u001b[0m \u001b[38;5;28mtype\u001b[39m(set_var)\n",
      "\u001b[1;31mNameError\u001b[0m: name 'ser_var' is not defined"
     ]
    }
   ],
   "source": [
    "set_var={\"Avenegrs\",\"Ironman\",\"Hitman\"}\n",
    "print(ser_var)\n",
    "type(set_var)"
   ]
  },
  {
   "cell_type": "code",
   "execution_count": null,
   "id": "8feeea53",
   "metadata": {},
   "outputs": [],
   "source": []
  },
  {
   "cell_type": "code",
   "execution_count": 6,
   "id": "639acb9d",
   "metadata": {},
   "outputs": [
    {
     "name": "stdout",
     "output_type": "stream",
     "text": [
      "{'Avenegrs', 'Hitman', 'Ironman'}\n"
     ]
    },
    {
     "data": {
      "text/plain": [
       "set"
      ]
     },
     "execution_count": 6,
     "metadata": {},
     "output_type": "execute_result"
    }
   ],
   "source": [
    "set_var={\"Avenegrs\",\"Ironman\",\"Hitman\"}\n",
    "print(set_var)\n",
    "type(set_var)"
   ]
  },
  {
   "cell_type": "code",
   "execution_count": 7,
   "id": "a6712dec",
   "metadata": {},
   "outputs": [],
   "source": [
    "set1={\"Avengers\",\"Ironman\",\"Captain America\"}\n",
    "set2={\"Avengers\",\"Ironman\",\"Captain america\",\"hulk\"}"
   ]
  },
  {
   "cell_type": "code",
   "execution_count": 8,
   "id": "0ef5569a",
   "metadata": {},
   "outputs": [
    {
     "ename": "AttributeError",
     "evalue": "'set' object has no attribute 'diffrence'",
     "output_type": "error",
     "traceback": [
      "\u001b[1;31m---------------------------------------------------------------------------\u001b[0m",
      "\u001b[1;31mAttributeError\u001b[0m                            Traceback (most recent call last)",
      "Cell \u001b[1;32mIn[8], line 1\u001b[0m\n\u001b[1;32m----> 1\u001b[0m set2\u001b[38;5;241m.\u001b[39mdiffrence(set1)\n",
      "\u001b[1;31mAttributeError\u001b[0m: 'set' object has no attribute 'diffrence'"
     ]
    }
   ],
   "source": [
    "set2.diffrence(set1)"
   ]
  },
  {
   "cell_type": "code",
   "execution_count": 9,
   "id": "b168783c",
   "metadata": {},
   "outputs": [
    {
     "data": {
      "text/plain": [
       "{'Captain america', 'hulk'}"
      ]
     },
     "execution_count": 9,
     "metadata": {},
     "output_type": "execute_result"
    }
   ],
   "source": [
    "set2.difference(set1)"
   ]
  },
  {
   "cell_type": "code",
   "execution_count": 10,
   "id": "78c9385c",
   "metadata": {},
   "outputs": [
    {
     "data": {
      "text/plain": [
       "{'Avengers', 'Captain America', 'Ironman'}"
      ]
     },
     "execution_count": 10,
     "metadata": {},
     "output_type": "execute_result"
    }
   ],
   "source": [
    "set1"
   ]
  },
  {
   "cell_type": "code",
   "execution_count": 11,
   "id": "e0682bc4",
   "metadata": {},
   "outputs": [
    {
     "data": {
      "text/plain": [
       "{'Avengers', 'Captain america', 'Ironman', 'hulk'}"
      ]
     },
     "execution_count": 11,
     "metadata": {},
     "output_type": "execute_result"
    }
   ],
   "source": [
    "set2"
   ]
  },
  {
   "cell_type": "code",
   "execution_count": 12,
   "id": "fc153e1d",
   "metadata": {},
   "outputs": [
    {
     "ename": "AttributeError",
     "evalue": "'set' object has no attribute 'diiference'",
     "output_type": "error",
     "traceback": [
      "\u001b[1;31m---------------------------------------------------------------------------\u001b[0m",
      "\u001b[1;31mAttributeError\u001b[0m                            Traceback (most recent call last)",
      "Cell \u001b[1;32mIn[12], line 1\u001b[0m\n\u001b[1;32m----> 1\u001b[0m set2\u001b[38;5;241m.\u001b[39mdiiference(set1)\n",
      "\u001b[1;31mAttributeError\u001b[0m: 'set' object has no attribute 'diiference'"
     ]
    }
   ],
   "source": [
    "set2.diiference(set1)"
   ]
  },
  {
   "cell_type": "code",
   "execution_count": 13,
   "id": "6d166106",
   "metadata": {},
   "outputs": [
    {
     "data": {
      "text/plain": [
       "{'Captain america', 'hulk'}"
      ]
     },
     "execution_count": 13,
     "metadata": {},
     "output_type": "execute_result"
    }
   ],
   "source": [
    "set2.difference(set1)"
   ]
  },
  {
   "cell_type": "code",
   "execution_count": 17,
   "id": "deb38596",
   "metadata": {},
   "outputs": [],
   "source": [
    "set1={\"Ironman\",\"Captainmarvel\",\"Thor\"}\n",
    "set2={\"Ironman\",\"Captainmarvel\",\"Loki\"}"
   ]
  },
  {
   "cell_type": "code",
   "execution_count": 19,
   "id": "993c9316",
   "metadata": {},
   "outputs": [
    {
     "data": {
      "text/plain": [
       "{'Thor'}"
      ]
     },
     "execution_count": 19,
     "metadata": {},
     "output_type": "execute_result"
    }
   ],
   "source": [
    "set1.difference(set2)"
   ]
  },
  {
   "cell_type": "code",
   "execution_count": 20,
   "id": "3016803f",
   "metadata": {},
   "outputs": [
    {
     "data": {
      "text/plain": [
       "{'Captainmarvel', 'Ironman'}"
      ]
     },
     "execution_count": 20,
     "metadata": {},
     "output_type": "execute_result"
    }
   ],
   "source": [
    "set1.intersection(set2)"
   ]
  },
  {
   "cell_type": "code",
   "execution_count": 21,
   "id": "647e3f74",
   "metadata": {},
   "outputs": [
    {
     "data": {
      "text/plain": [
       "{'Captainmarvel', 'Ironman', 'Loki', 'Thor'}"
      ]
     },
     "execution_count": 21,
     "metadata": {},
     "output_type": "execute_result"
    }
   ],
   "source": [
    "set1.union(set2)"
   ]
  },
  {
   "cell_type": "code",
   "execution_count": 23,
   "id": "c5a4d6a4",
   "metadata": {},
   "outputs": [],
   "source": [
    "set2.intersection_update(set1)"
   ]
  },
  {
   "cell_type": "code",
   "execution_count": 24,
   "id": "006cbe6c",
   "metadata": {},
   "outputs": [
    {
     "data": {
      "text/plain": [
       "{'Captainmarvel', 'Ironman'}"
      ]
     },
     "execution_count": 24,
     "metadata": {},
     "output_type": "execute_result"
    }
   ],
   "source": [
    "set2"
   ]
  },
  {
   "cell_type": "code",
   "execution_count": 25,
   "id": "9f01634e",
   "metadata": {},
   "outputs": [],
   "source": [
    "dic=()"
   ]
  },
  {
   "cell_type": "code",
   "execution_count": 26,
   "id": "871ce2de",
   "metadata": {},
   "outputs": [
    {
     "data": {
      "text/plain": [
       "tuple"
      ]
     },
     "execution_count": 26,
     "metadata": {},
     "output_type": "execute_result"
    }
   ],
   "source": [
    "type(dic)"
   ]
  },
  {
   "cell_type": "code",
   "execution_count": 27,
   "id": "4e6578bd",
   "metadata": {},
   "outputs": [],
   "source": [
    "dic={}"
   ]
  },
  {
   "cell_type": "code",
   "execution_count": 28,
   "id": "11ee1e15",
   "metadata": {},
   "outputs": [
    {
     "data": {
      "text/plain": [
       "dict"
      ]
     },
     "execution_count": 28,
     "metadata": {},
     "output_type": "execute_result"
    }
   ],
   "source": [
    "type(dic)"
   ]
  },
  {
   "cell_type": "code",
   "execution_count": 29,
   "id": "6c18ae60",
   "metadata": {},
   "outputs": [],
   "source": [
    "set_ex={2,3,4,5,6,3}"
   ]
  },
  {
   "cell_type": "code",
   "execution_count": 30,
   "id": "f96ecd82",
   "metadata": {},
   "outputs": [
    {
     "name": "stdout",
     "output_type": "stream",
     "text": [
      "{2, 3, 4, 5, 6}\n"
     ]
    }
   ],
   "source": [
    "print(set_ex)"
   ]
  },
  {
   "cell_type": "code",
   "execution_count": 31,
   "id": "702063ed",
   "metadata": {},
   "outputs": [],
   "source": [
    "my_dict={\"car1\":\"Lamorgini\", \"car2\":\"Jaguar\", \"car3\":\"Audi\"}"
   ]
  },
  {
   "cell_type": "code",
   "execution_count": 32,
   "id": "06ad3eb1",
   "metadata": {},
   "outputs": [
    {
     "data": {
      "text/plain": [
       "dict"
      ]
     },
     "execution_count": 32,
     "metadata": {},
     "output_type": "execute_result"
    }
   ],
   "source": [
    "type(my_dict)"
   ]
  },
  {
   "cell_type": "code",
   "execution_count": 33,
   "id": "75791930",
   "metadata": {},
   "outputs": [
    {
     "ename": "KeyError",
     "evalue": "2",
     "output_type": "error",
     "traceback": [
      "\u001b[1;31m---------------------------------------------------------------------------\u001b[0m",
      "\u001b[1;31mKeyError\u001b[0m                                  Traceback (most recent call last)",
      "Cell \u001b[1;32mIn[33], line 1\u001b[0m\n\u001b[1;32m----> 1\u001b[0m my_dict[\u001b[38;5;241m2\u001b[39m]\n",
      "\u001b[1;31mKeyError\u001b[0m: 2"
     ]
    }
   ],
   "source": [
    "my_dict[2]"
   ]
  },
  {
   "cell_type": "code",
   "execution_count": 34,
   "id": "2d85f798",
   "metadata": {},
   "outputs": [
    {
     "data": {
      "text/plain": [
       "'Jaguar'"
      ]
     },
     "execution_count": 34,
     "metadata": {},
     "output_type": "execute_result"
    }
   ],
   "source": [
    "my_dict['car2']"
   ]
  },
  {
   "cell_type": "code",
   "execution_count": 35,
   "id": "99d1992d",
   "metadata": {},
   "outputs": [
    {
     "data": {
      "text/plain": [
       "'Lamorgini'"
      ]
     },
     "execution_count": 35,
     "metadata": {},
     "output_type": "execute_result"
    }
   ],
   "source": [
    "my_dict['car1']"
   ]
  },
  {
   "cell_type": "code",
   "execution_count": 40,
   "id": "11c9ade0",
   "metadata": {},
   "outputs": [
    {
     "name": "stdout",
     "output_type": "stream",
     "text": [
      "car1\n",
      "car2\n",
      "car3\n"
     ]
    }
   ],
   "source": [
    "for x in my_dict:\n",
    "    print(x)"
   ]
  },
  {
   "cell_type": "code",
   "execution_count": 41,
   "id": "596a4149",
   "metadata": {},
   "outputs": [
    {
     "name": "stdout",
     "output_type": "stream",
     "text": [
      "Lamorgini\n",
      "Jaguar\n",
      "Audi\n"
     ]
    }
   ],
   "source": [
    "for x in my_dict.values():\n",
    "    print(x)"
   ]
  },
  {
   "cell_type": "code",
   "execution_count": 42,
   "id": "dc42292a",
   "metadata": {},
   "outputs": [
    {
     "name": "stdout",
     "output_type": "stream",
     "text": [
      "('car1', 'Lamorgini')\n",
      "('car2', 'Jaguar')\n",
      "('car3', 'Audi')\n"
     ]
    }
   ],
   "source": [
    "for v in my_dict.items():\n",
    "    print(v)"
   ]
  },
  {
   "cell_type": "code",
   "execution_count": 43,
   "id": "7e073a1c",
   "metadata": {},
   "outputs": [],
   "source": [
    "my_dict['car1']='maruti'"
   ]
  },
  {
   "cell_type": "code",
   "execution_count": 44,
   "id": "f13808de",
   "metadata": {},
   "outputs": [
    {
     "ename": "TypeError",
     "evalue": "'dict' object is not callable",
     "output_type": "error",
     "traceback": [
      "\u001b[1;31m---------------------------------------------------------------------------\u001b[0m",
      "\u001b[1;31mTypeError\u001b[0m                                 Traceback (most recent call last)",
      "Cell \u001b[1;32mIn[44], line 1\u001b[0m\n\u001b[1;32m----> 1\u001b[0m my_dict()\n",
      "\u001b[1;31mTypeError\u001b[0m: 'dict' object is not callable"
     ]
    }
   ],
   "source": [
    "my_dict()"
   ]
  },
  {
   "cell_type": "code",
   "execution_count": 45,
   "id": "117dd807",
   "metadata": {},
   "outputs": [
    {
     "data": {
      "text/plain": [
       "{'car1': 'maruti', 'car2': 'Jaguar', 'car3': 'Audi'}"
      ]
     },
     "execution_count": 45,
     "metadata": {},
     "output_type": "execute_result"
    }
   ],
   "source": [
    "my_dict"
   ]
  },
  {
   "cell_type": "code",
   "execution_count": 49,
   "id": "6700a175",
   "metadata": {},
   "outputs": [],
   "source": [
    "car1_model={'Mercedes':1960}\n",
    "car2_model={'BMW':1972}\n",
    "car3_model={\"Aston martin\":1978}"
   ]
  },
  {
   "cell_type": "code",
   "execution_count": 51,
   "id": "9b0511e6",
   "metadata": {},
   "outputs": [],
   "source": [
    "car_model={'car1':car1_model,'car2':car2_model,'car3':car3_model}"
   ]
  },
  {
   "cell_type": "code",
   "execution_count": 52,
   "id": "8c56a474",
   "metadata": {},
   "outputs": [
    {
     "name": "stdout",
     "output_type": "stream",
     "text": [
      "{'car1': {'Mercedes': 1960}, 'car2': {'BMW': 1972}, 'car3': {'Aston martin': 1978}}\n"
     ]
    }
   ],
   "source": [
    "print(car_model)"
   ]
  },
  {
   "cell_type": "code",
   "execution_count": 53,
   "id": "cc762f8c",
   "metadata": {},
   "outputs": [
    {
     "name": "stdout",
     "output_type": "stream",
     "text": [
      "{'Mercedes': 1960}\n"
     ]
    }
   ],
   "source": [
    "print(car_model['car1'])"
   ]
  },
  {
   "cell_type": "code",
   "execution_count": 58,
   "id": "0b6acc50",
   "metadata": {},
   "outputs": [
    {
     "name": "stdout",
     "output_type": "stream",
     "text": [
      "1972\n"
     ]
    }
   ],
   "source": [
    "print(car_model['car2']['BMW'])"
   ]
  },
  {
   "cell_type": "code",
   "execution_count": 60,
   "id": "7bf2d6d7",
   "metadata": {},
   "outputs": [
    {
     "ename": "KeyError",
     "evalue": "1978",
     "output_type": "error",
     "traceback": [
      "\u001b[1;31m---------------------------------------------------------------------------\u001b[0m",
      "\u001b[1;31mKeyError\u001b[0m                                  Traceback (most recent call last)",
      "Cell \u001b[1;32mIn[60], line 1\u001b[0m\n\u001b[1;32m----> 1\u001b[0m \u001b[38;5;28mprint\u001b[39m(car_model[\u001b[38;5;124m'\u001b[39m\u001b[38;5;124mcar3\u001b[39m\u001b[38;5;124m'\u001b[39m][\u001b[38;5;241m1978\u001b[39m])\n",
      "\u001b[1;31mKeyError\u001b[0m: 1978"
     ]
    }
   ],
   "source": [
    "print(car_model['car3'][1978])"
   ]
  },
  {
   "cell_type": "code",
   "execution_count": 61,
   "id": "c625c7fc",
   "metadata": {},
   "outputs": [
    {
     "ename": "NameError",
     "evalue": "name 'Tuples' is not defined",
     "output_type": "error",
     "traceback": [
      "\u001b[1;31m---------------------------------------------------------------------------\u001b[0m",
      "\u001b[1;31mNameError\u001b[0m                                 Traceback (most recent call last)",
      "Cell \u001b[1;32mIn[61], line 1\u001b[0m\n\u001b[1;32m----> 1\u001b[0m Tuples\u001b[38;5;241m.\u001b[39mhelp()\n",
      "\u001b[1;31mNameError\u001b[0m: name 'Tuples' is not defined"
     ]
    }
   ],
   "source": [
    "Tuples.help()"
   ]
  },
  {
   "cell_type": "code",
   "execution_count": null,
   "id": "ef3f317c",
   "metadata": {},
   "outputs": [],
   "source": [
    " "
   ]
  }
 ],
 "metadata": {
  "kernelspec": {
   "display_name": "Python 3 (ipykernel)",
   "language": "python",
   "name": "python3"
  },
  "language_info": {
   "codemirror_mode": {
    "name": "ipython",
    "version": 3
   },
   "file_extension": ".py",
   "mimetype": "text/x-python",
   "name": "python",
   "nbconvert_exporter": "python",
   "pygments_lexer": "ipython3",
   "version": "3.11.4"
  }
 },
 "nbformat": 4,
 "nbformat_minor": 5
}
