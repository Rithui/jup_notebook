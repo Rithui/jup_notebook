{
 "cells": [
  {
   "cell_type": "code",
   "execution_count": 1,
   "id": "f686f4d9",
   "metadata": {},
   "outputs": [
    {
     "name": "stdout",
     "output_type": "stream",
     "text": [
      "Rithuik Prakash\n"
     ]
    }
   ],
   "source": [
    "print(\"Rithuik Prakash\")"
   ]
  },
  {
   "cell_type": "code",
   "execution_count": 2,
   "id": "5c1ba66f",
   "metadata": {},
   "outputs": [
    {
     "name": "stdout",
     "output_type": "stream",
     "text": [
      "12\n"
     ]
    }
   ],
   "source": [
    "print(3+9)"
   ]
  },
  {
   "cell_type": "code",
   "execution_count": 3,
   "id": "669099b0",
   "metadata": {},
   "outputs": [
    {
     "ename": "SyntaxError",
     "evalue": "incomplete input (2359908140.py, line 1)",
     "output_type": "error",
     "traceback": [
      "\u001b[1;36m  Cell \u001b[1;32mIn[3], line 1\u001b[1;36m\u001b[0m\n\u001b[1;33m    my_str=\"Appu N.K\"\\\u001b[0m\n\u001b[1;37m                      ^\u001b[0m\n\u001b[1;31mSyntaxError\u001b[0m\u001b[1;31m:\u001b[0m incomplete input\n"
     ]
    }
   ],
   "source": [
    "my_str=\"Appu N.K\"\\"
   ]
  },
  {
   "cell_type": "code",
   "execution_count": 4,
   "id": "10ae8c81",
   "metadata": {},
   "outputs": [],
   "source": [
    "my_str=\"Appu N.K\""
   ]
  },
  {
   "cell_type": "code",
   "execution_count": 5,
   "id": "b1b8c8e0",
   "metadata": {},
   "outputs": [
    {
     "ename": "AttributeError",
     "evalue": "'str' object has no attribute 'isalphanum'",
     "output_type": "error",
     "traceback": [
      "\u001b[1;31m---------------------------------------------------------------------------\u001b[0m",
      "\u001b[1;31mAttributeError\u001b[0m                            Traceback (most recent call last)",
      "Cell \u001b[1;32mIn[5], line 1\u001b[0m\n\u001b[1;32m----> 1\u001b[0m my_str\u001b[38;5;241m.\u001b[39misalphanum()\n",
      "\u001b[1;31mAttributeError\u001b[0m: 'str' object has no attribute 'isalphanum'"
     ]
    }
   ],
   "source": [
    "my_str.isalphanum()"
   ]
  },
  {
   "cell_type": "code",
   "execution_count": 6,
   "id": "c638253a",
   "metadata": {},
   "outputs": [],
   "source": [
    "my_str=\"Appu N.K\""
   ]
  },
  {
   "cell_type": "code",
   "execution_count": 7,
   "id": "2671b45e",
   "metadata": {},
   "outputs": [
    {
     "data": {
      "text/plain": [
       "True"
      ]
     },
     "execution_count": 7,
     "metadata": {},
     "output_type": "execute_result"
    }
   ],
   "source": [
    "my_str.endswith('K')"
   ]
  },
  {
   "cell_type": "code",
   "execution_count": 8,
   "id": "365dadba",
   "metadata": {},
   "outputs": [
    {
     "data": {
      "text/plain": [
       "False"
      ]
     },
     "execution_count": 8,
     "metadata": {},
     "output_type": "execute_result"
    }
   ],
   "source": [
    "my_str.endswith('k')"
   ]
  },
  {
   "cell_type": "code",
   "execution_count": 9,
   "id": "5ad457a6",
   "metadata": {},
   "outputs": [
    {
     "data": {
      "text/plain": [
       "False"
      ]
     },
     "execution_count": 9,
     "metadata": {},
     "output_type": "execute_result"
    }
   ],
   "source": [
    "my_str.isdigit()"
   ]
  },
  {
   "cell_type": "code",
   "execution_count": 10,
   "id": "70bef77f",
   "metadata": {},
   "outputs": [
    {
     "data": {
      "text/plain": [
       "True"
      ]
     },
     "execution_count": 10,
     "metadata": {},
     "output_type": "execute_result"
    }
   ],
   "source": [
    "my_str.startswith('A')"
   ]
  },
  {
   "cell_type": "code",
   "execution_count": 11,
   "id": "9cd62f29",
   "metadata": {},
   "outputs": [
    {
     "data": {
      "text/plain": [
       "False"
      ]
     },
     "execution_count": 11,
     "metadata": {},
     "output_type": "execute_result"
    }
   ],
   "source": [
    " my_str.isalnum()"
   ]
  },
  {
   "cell_type": "code",
   "execution_count": 12,
   "id": "f7d56d9d",
   "metadata": {},
   "outputs": [
    {
     "data": {
      "text/plain": [
       "list"
      ]
     },
     "execution_count": 12,
     "metadata": {},
     "output_type": "execute_result"
    }
   ],
   "source": [
    "type([])"
   ]
  },
  {
   "cell_type": "code",
   "execution_count": 13,
   "id": "30124350",
   "metadata": {},
   "outputs": [],
   "source": [
    "list=['datascience','machhine learning',300,'king of kotha',780,600]"
   ]
  },
  {
   "cell_type": "code",
   "execution_count": 14,
   "id": "0b5464fa",
   "metadata": {},
   "outputs": [
    {
     "data": {
      "text/plain": [
       "780"
      ]
     },
     "execution_count": 14,
     "metadata": {},
     "output_type": "execute_result"
    }
   ],
   "source": [
    "list[4]"
   ]
  },
  {
   "cell_type": "code",
   "execution_count": 15,
   "id": "472b3794",
   "metadata": {},
   "outputs": [
    {
     "ename": "NameError",
     "evalue": "name 'lis' is not defined",
     "output_type": "error",
     "traceback": [
      "\u001b[1;31m---------------------------------------------------------------------------\u001b[0m",
      "\u001b[1;31mNameError\u001b[0m                                 Traceback (most recent call last)",
      "Cell \u001b[1;32mIn[15], line 1\u001b[0m\n\u001b[1;32m----> 1\u001b[0m lis[\u001b[38;5;241m9\u001b[39m]\n",
      "\u001b[1;31mNameError\u001b[0m: name 'lis' is not defined"
     ]
    }
   ],
   "source": [
    "lis[9]"
   ]
  },
  {
   "cell_type": "code",
   "execution_count": 16,
   "id": "3caea040",
   "metadata": {},
   "outputs": [
    {
     "ename": "IndexError",
     "evalue": "list index out of range",
     "output_type": "error",
     "traceback": [
      "\u001b[1;31m---------------------------------------------------------------------------\u001b[0m",
      "\u001b[1;31mIndexError\u001b[0m                                Traceback (most recent call last)",
      "Cell \u001b[1;32mIn[16], line 1\u001b[0m\n\u001b[1;32m----> 1\u001b[0m \u001b[38;5;28mlist\u001b[39m[\u001b[38;5;241m9\u001b[39m]\n",
      "\u001b[1;31mIndexError\u001b[0m: list index out of range"
     ]
    }
   ],
   "source": [
    "list[9]"
   ]
  },
  {
   "cell_type": "code",
   "execution_count": 17,
   "id": "b830b3f3",
   "metadata": {},
   "outputs": [
    {
     "data": {
      "text/plain": [
       "300"
      ]
     },
     "execution_count": 17,
     "metadata": {},
     "output_type": "execute_result"
    }
   ],
   "source": [
    "list[2]"
   ]
  },
  {
   "cell_type": "code",
   "execution_count": 18,
   "id": "95ec89f0",
   "metadata": {},
   "outputs": [
    {
     "data": {
      "text/plain": [
       "780"
      ]
     },
     "execution_count": 18,
     "metadata": {},
     "output_type": "execute_result"
    }
   ],
   "source": [
    "list[4]\n"
   ]
  },
  {
   "cell_type": "code",
   "execution_count": 19,
   "id": "3cdc1e0b",
   "metadata": {},
   "outputs": [
    {
     "data": {
      "text/plain": [
       "'king of kotha'"
      ]
     },
     "execution_count": 19,
     "metadata": {},
     "output_type": "execute_result"
    }
   ],
   "source": [
    "list[3]"
   ]
  },
  {
   "cell_type": "code",
   "execution_count": 20,
   "id": "5b179d50",
   "metadata": {},
   "outputs": [
    {
     "data": {
      "text/plain": [
       "['datascience', 'machhine learning', 300, 'king of kotha', 780, 600]"
      ]
     },
     "execution_count": 20,
     "metadata": {},
     "output_type": "execute_result"
    }
   ],
   "source": [
    "list[:]"
   ]
  },
  {
   "cell_type": "code",
   "execution_count": 21,
   "id": "ddeccee1",
   "metadata": {},
   "outputs": [
    {
     "data": {
      "text/plain": [
       "['machhine learning', 300, 'king of kotha', 780, 600]"
      ]
     },
     "execution_count": 21,
     "metadata": {},
     "output_type": "execute_result"
    }
   ],
   "source": [
    "list[1:]"
   ]
  },
  {
   "cell_type": "code",
   "execution_count": 22,
   "id": "b4d7ae3a",
   "metadata": {},
   "outputs": [
    {
     "data": {
      "text/plain": [
       "['machhine learning', 300, 'king of kotha', 780, 600]"
      ]
     },
     "execution_count": 22,
     "metadata": {},
     "output_type": "execute_result"
    }
   ],
   "source": [
    "list[1:6]"
   ]
  },
  {
   "cell_type": "code",
   "execution_count": 23,
   "id": "9d7974e7",
   "metadata": {},
   "outputs": [
    {
     "data": {
      "text/plain": [
       "['machhine learning', 300, 'king of kotha', 780, 600]"
      ]
     },
     "execution_count": 23,
     "metadata": {},
     "output_type": "execute_result"
    }
   ],
   "source": [
    "list[1:7]"
   ]
  },
  {
   "cell_type": "code",
   "execution_count": 24,
   "id": "d853e471",
   "metadata": {},
   "outputs": [
    {
     "ename": "TypeError",
     "evalue": "list.append() takes exactly one argument (2 given)",
     "output_type": "error",
     "traceback": [
      "\u001b[1;31m---------------------------------------------------------------------------\u001b[0m",
      "\u001b[1;31mTypeError\u001b[0m                                 Traceback (most recent call last)",
      "Cell \u001b[1;32mIn[24], line 1\u001b[0m\n\u001b[1;32m----> 1\u001b[0m \u001b[38;5;28mlist\u001b[39m\u001b[38;5;241m.\u001b[39mappend(\u001b[38;5;124m'\u001b[39m\u001b[38;5;124mDark\u001b[39m\u001b[38;5;124m'\u001b[39m,\u001b[38;5;124m'\u001b[39m\u001b[38;5;124mKirk Party\u001b[39m\u001b[38;5;124m'\u001b[39m)\n",
      "\u001b[1;31mTypeError\u001b[0m: list.append() takes exactly one argument (2 given)"
     ]
    }
   ],
   "source": [
    "list.append('Dark','Kirk Party')"
   ]
  },
  {
   "cell_type": "code",
   "execution_count": 25,
   "id": "9285a8ab",
   "metadata": {},
   "outputs": [],
   "source": [
    "list.append([\"Kirik Party\",\"Nelson\"])"
   ]
  },
  {
   "cell_type": "code",
   "execution_count": 26,
   "id": "9880b08f",
   "metadata": {},
   "outputs": [
    {
     "data": {
      "text/plain": [
       "['datascience',\n",
       " 'machhine learning',\n",
       " 300,\n",
       " 'king of kotha',\n",
       " 780,\n",
       " 600,\n",
       " ['Kirik Party', 'Nelson']]"
      ]
     },
     "execution_count": 26,
     "metadata": {},
     "output_type": "execute_result"
    }
   ],
   "source": [
    "list[:]"
   ]
  },
  {
   "cell_type": "code",
   "execution_count": 27,
   "id": "10b47030",
   "metadata": {},
   "outputs": [],
   "source": [
    "list=[2,8,4,1,90,57,29]"
   ]
  },
  {
   "cell_type": "code",
   "execution_count": 28,
   "id": "26dfa2ba",
   "metadata": {},
   "outputs": [],
   "source": [
    "list.extend([45,89])"
   ]
  },
  {
   "cell_type": "code",
   "execution_count": 29,
   "id": "da6e651c",
   "metadata": {},
   "outputs": [
    {
     "data": {
      "text/plain": [
       "[2, 8, 4, 1, 90, 57, 29, 45, 89]"
      ]
     },
     "execution_count": 29,
     "metadata": {},
     "output_type": "execute_result"
    }
   ],
   "source": [
    "list[:]"
   ]
  },
  {
   "cell_type": "code",
   "execution_count": 30,
   "id": "345a1f37",
   "metadata": {},
   "outputs": [
    {
     "data": {
      "text/plain": [
       "3"
      ]
     },
     "execution_count": 30,
     "metadata": {},
     "output_type": "execute_result"
    }
   ],
   "source": [
    "list.index(1)"
   ]
  },
  {
   "cell_type": "code",
   "execution_count": 31,
   "id": "8867c485",
   "metadata": {},
   "outputs": [
    {
     "ename": "ValueError",
     "evalue": "27 is not in list",
     "output_type": "error",
     "traceback": [
      "\u001b[1;31m---------------------------------------------------------------------------\u001b[0m",
      "\u001b[1;31mValueError\u001b[0m                                Traceback (most recent call last)",
      "Cell \u001b[1;32mIn[31], line 1\u001b[0m\n\u001b[1;32m----> 1\u001b[0m \u001b[38;5;28mlist\u001b[39m\u001b[38;5;241m.\u001b[39mindex(\u001b[38;5;241m27\u001b[39m)\n",
      "\u001b[1;31mValueError\u001b[0m: 27 is not in list"
     ]
    }
   ],
   "source": [
    "list.index(27)"
   ]
  },
  {
   "cell_type": "code",
   "execution_count": 32,
   "id": "888000bb",
   "metadata": {},
   "outputs": [
    {
     "data": {
      "text/plain": [
       "7"
      ]
     },
     "execution_count": 32,
     "metadata": {},
     "output_type": "execute_result"
    }
   ],
   "source": [
    "list.index(45)"
   ]
  },
  {
   "cell_type": "code",
   "execution_count": 33,
   "id": "3825300b",
   "metadata": {},
   "outputs": [
    {
     "ename": "AttributeError",
     "evalue": "'builtin_function_or_method' object has no attribute 'list'",
     "output_type": "error",
     "traceback": [
      "\u001b[1;31m---------------------------------------------------------------------------\u001b[0m",
      "\u001b[1;31mAttributeError\u001b[0m                            Traceback (most recent call last)",
      "Cell \u001b[1;32mIn[33], line 1\u001b[0m\n\u001b[1;32m----> 1\u001b[0m \u001b[38;5;28mmin\u001b[39m\u001b[38;5;241m.\u001b[39mlist()\n",
      "\u001b[1;31mAttributeError\u001b[0m: 'builtin_function_or_method' object has no attribute 'list'"
     ]
    }
   ],
   "source": [
    "min.list()"
   ]
  },
  {
   "cell_type": "code",
   "execution_count": 34,
   "id": "8e5df021",
   "metadata": {},
   "outputs": [
    {
     "data": {
      "text/plain": [
       "1"
      ]
     },
     "execution_count": 34,
     "metadata": {},
     "output_type": "execute_result"
    }
   ],
   "source": [
    "min(list)"
   ]
  },
  {
   "cell_type": "code",
   "execution_count": 35,
   "id": "09dc2d6b",
   "metadata": {},
   "outputs": [
    {
     "data": {
      "text/plain": [
       "90"
      ]
     },
     "execution_count": 35,
     "metadata": {},
     "output_type": "execute_result"
    }
   ],
   "source": [
    "max(list)"
   ]
  },
  {
   "cell_type": "code",
   "execution_count": 36,
   "id": "40c17ea0",
   "metadata": {},
   "outputs": [
    {
     "data": {
      "text/plain": [
       "[2,\n",
       " 8,\n",
       " 4,\n",
       " 1,\n",
       " 90,\n",
       " 57,\n",
       " 29,\n",
       " 45,\n",
       " 89,\n",
       " 2,\n",
       " 8,\n",
       " 4,\n",
       " 1,\n",
       " 90,\n",
       " 57,\n",
       " 29,\n",
       " 45,\n",
       " 89,\n",
       " 2,\n",
       " 8,\n",
       " 4,\n",
       " 1,\n",
       " 90,\n",
       " 57,\n",
       " 29,\n",
       " 45,\n",
       " 89]"
      ]
     },
     "execution_count": 36,
     "metadata": {},
     "output_type": "execute_result"
    }
   ],
   "source": [
    "list*3"
   ]
  },
  {
   "cell_type": "code",
   "execution_count": null,
   "id": "c3e60073",
   "metadata": {},
   "outputs": [],
   "source": []
  }
 ],
 "metadata": {
  "kernelspec": {
   "display_name": "Python 3 (ipykernel)",
   "language": "python",
   "name": "python3"
  },
  "language_info": {
   "codemirror_mode": {
    "name": "ipython",
    "version": 3
   },
   "file_extension": ".py",
   "mimetype": "text/x-python",
   "name": "python",
   "nbconvert_exporter": "python",
   "pygments_lexer": "ipython3",
   "version": "3.11.4"
  }
 },
 "nbformat": 4,
 "nbformat_minor": 5
}
